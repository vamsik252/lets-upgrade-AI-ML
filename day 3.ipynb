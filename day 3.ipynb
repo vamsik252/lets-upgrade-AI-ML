{
 "cells": [
  {
   "cell_type": "markdown",
   "metadata": {},
   "source": [
    "# day 3 assign"
   ]
  },
  {
   "cell_type": "markdown",
   "metadata": {},
   "source": [
    "# 1 ans"
   ]
  },
  {
   "cell_type": "code",
   "execution_count": 3,
   "metadata": {},
   "outputs": [
    {
     "name": "stdout",
     "output_type": "stream",
     "text": [
      "9j\n"
     ]
    }
   ],
   "source": [
    "a= 2+3J\n",
    "b= 2-6j\n",
    "c= a-b\n",
    "print(c)"
   ]
  },
  {
   "cell_type": "markdown",
   "metadata": {},
   "source": [
    "# 2 ans"
   ]
  },
  {
   "cell_type": "code",
   "execution_count": 42,
   "metadata": {},
   "outputs": [
    {
     "name": "stdout",
     "output_type": "stream",
     "text": [
      "10 1.7782794100389228\n"
     ]
    }
   ],
   "source": [
    "\n",
    "\n",
    "    a = 10\n",
    "    root =4\n",
    "output = a**(1/root)\n",
    "\n",
    "print( a  , output)\n",
    "    \n"
   ]
  },
  {
   "cell_type": "markdown",
   "metadata": {},
   "source": [
    "# 3 ans"
   ]
  },
  {
   "cell_type": "code",
   "execution_count": 54,
   "metadata": {},
   "outputs": [
    {
     "name": "stdout",
     "output_type": "stream",
     "text": [
      "a is: 20  b is: 10\n"
     ]
    }
   ],
   "source": [
    "\n",
    "a = 10\n",
    "b = 20\n",
    "c=a\n",
    "a=b\n",
    "b=c\n",
    "\n",
    "print(\"a is:\",a,\" b is:\",b)"
   ]
  },
  {
   "cell_type": "markdown",
   "metadata": {},
   "source": [
    "# 4 ans"
   ]
  },
  {
   "cell_type": "code",
   "execution_count": 55,
   "metadata": {},
   "outputs": [
    {
     "name": "stdout",
     "output_type": "stream",
     "text": [
      "a is: 20  b is: 10\n"
     ]
    }
   ],
   "source": [
    " a = 10\n",
    " b = 20\n",
    "a=a+b\n",
    "b=a-b\n",
    "a=a-b\n",
    "print(\"a is:\",a,\" b is:\",b)"
   ]
  },
  {
   "cell_type": "markdown",
   "metadata": {},
   "source": [
    "# 5 ans"
   ]
  },
  {
   "cell_type": "code",
   "execution_count": 63,
   "metadata": {},
   "outputs": [
    {
     "name": "stdout",
     "output_type": "stream",
     "text": [
      "99.5\n",
      "37.5\n",
      "-123.14999999999998\n"
     ]
    }
   ],
   "source": [
    "celsius = 37.5\n",
    "\n",
    "# calculate fahrenheit\n",
    "fahrenheit = (celsius * 1.8) + 32\n",
    "print(fahrenheit)\n",
    "\n",
    "# calculate celsius \n",
    "celsius = (fahrenheit - 32) / 1.8\n",
    "print(celsius)\n",
    "# calculte degree\n",
    "degree =(4 * celsius) - 273.15 \n",
    "print(degree)\n"
   ]
  },
  {
   "cell_type": "markdown",
   "metadata": {},
   "source": [
    "# 6 ans"
   ]
  },
  {
   "cell_type": "code",
   "execution_count": 73,
   "metadata": {},
   "outputs": [
    {
     "name": "stdout",
     "output_type": "stream",
     "text": [
      "<class 'int'>\n",
      "<class 'float'>\n",
      "<class 'complex'>\n",
      "<class 'str'>\n",
      "<class 'bool'>\n",
      "<class 'bool'>\n"
     ]
    }
   ],
   "source": [
    "print(type(4))\n",
    "print(type(4.9))\n",
    "print(type(2+3j))\n",
    "print( type('I am bad'))\n",
    "print( type(True))\n",
    "print( type(False))\n"
   ]
  },
  {
   "cell_type": "markdown",
   "metadata": {},
   "source": [
    "1go to git hub\n",
    "2sign in ti that\n",
    "3create Repositories\n",
    "4if u done day3 & day 4 assign \n",
    "5creates floders of assigns\n",
    "6go to git hub\n",
    "7click new\n",
    "8ADD NAME AS Let's upgrade AL-ML\n",
    "9ADD ASSIGN DAY3 & DAY 4 IN DESCRIPTION\n",
    "10CLICK Repositories\n",
    "11click upload file then select day 3 file and upload it and save url\n",
    "12click lets upgrade link and give all ur registered data  and give same url\n",
    "13end"
   ]
  }
 ],
 "metadata": {
  "kernelspec": {
   "display_name": "Python 3",
   "language": "python",
   "name": "python3"
  },
  "language_info": {
   "codemirror_mode": {
    "name": "ipython",
    "version": 3
   },
   "file_extension": ".py",
   "mimetype": "text/x-python",
   "name": "python",
   "nbconvert_exporter": "python",
   "pygments_lexer": "ipython3",
   "version": "3.7.6"
  }
 },
 "nbformat": 4,
 "nbformat_minor": 4
}
