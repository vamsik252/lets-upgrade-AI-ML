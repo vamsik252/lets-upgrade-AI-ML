{
 "cells": [
  {
   "cell_type": "markdown",
   "metadata": {},
   "source": [
    "#  1 ans"
   ]
  },
  {
   "cell_type": "code",
   "execution_count": 10,
   "metadata": {},
   "outputs": [
    {
     "name": "stdout",
     "output_type": "stream",
     "text": [
      "(3+5j) (1+1j)\n",
      "(-4+7j) (1.6-0.2j)\n"
     ]
    }
   ],
   "source": [
    "z1 = complex(2, 3) \n",
    "z2 = complex(1, 2)\n",
    "z3 = z1 + z2\n",
    "z4 = z1 - z2\n",
    "z5 = z1 * z2\n",
    "z6 = z1 / z2\n",
    "\n",
    "\n",
    "\n",
    "print(z3,z4)\n",
    "print(z5,z6)\n"
   ]
  },
  {
   "cell_type": "code",
   "execution_count": 11,
   "metadata": {},
   "outputs": [
    {
     "name": "stdout",
     "output_type": "stream",
     "text": [
      "Enter complex number in form a+bj: 2+3j\n",
      "The modulus of  (2+3j)  is 3.605551275463989\n"
     ]
    }
   ],
   "source": [
    "x=complex(input(\"Enter complex number : \"))\n",
    "\n",
    "import cmath\n",
    "y=cmath.sqrt((x.real)**2+(x.imag)**2)\n",
    "\n",
    "print(\"The modulus of \",x,\" is\", y.real)"
   ]
  },
  {
   "cell_type": "markdown",
   "metadata": {},
   "source": [
    "i worked on floor division for compex numbers. but i cant found the program for it"
   ]
  },
  {
   "cell_type": "markdown",
   "metadata": {},
   "source": [
    "#  2 ans"
   ]
  },
  {
   "cell_type": "markdown",
   "metadata": {},
   "source": [
    "range()\n",
    "\n",
    "1.This function is used to find any parameters inside a variable.\n",
    "2. in this function we can also find  where we want to find the letter whih is startind , middle , ending points and also where ever we want.\n",
    "3. in this function we have option  clled step back.  we can step back how many times we want.\n",
    "example \n",
    "a = (1 2 3 4 5 6 7 )\n",
    "if we want to find letter 3rd place  we write   range(2) . then we get 3 as ans. because it takes starting point as 0 then 1 then 2  and so on .\n",
    "range(2,5) we get output as  2 3 4 only . because it has a format like  (0 to n-1)\n",
    "from the example n = 6 \n",
    "range (2,7,2) we get output has 2 4 6  this is called step back function"
   ]
  },
  {
   "cell_type": "markdown",
   "metadata": {},
   "source": [
    "# 3 ans"
   ]
  },
  {
   "cell_type": "code",
   "execution_count": 51,
   "metadata": {},
   "outputs": [
    {
     "name": "stdout",
     "output_type": "stream",
     "text": [
      "Enter any two number: \n",
      "56\n",
      "90\n",
      "-34\n",
      "56\n"
     ]
    }
   ],
   "source": [
    "print(\"Enter any two number: \")\n",
    "a = int( input());\n",
    "b = int(input());\n",
    "c= a-b\n",
    "print(c)\n",
    "if c > 25:\n",
    "    print (int((a*b)))\n",
    "else:\n",
    "    print(a % b)\n",
    "    "
   ]
  },
  {
   "cell_type": "markdown",
   "metadata": {},
   "source": [
    "# 4 ans"
   ]
  },
  {
   "cell_type": "code",
   "execution_count": 68,
   "metadata": {},
   "outputs": [
    {
     "name": "stdout",
     "output_type": "stream",
     "text": [
      "[0.  0.5 1.  0.5 1. ]\n",
      "given num is divisible  \n",
      "sqrt(num) - 2 =  5\n"
     ]
    }
   ],
   "source": [
    "import numpy as np\n",
    "List = [2,10.5,15,20.5,25]\n",
    "num = 2\n",
    "new_List  = np.mod(List, num)\n",
    "print(new_List)\n",
    "if 1 in new_List :\n",
    "    import math\n",
    "    c=(int(math.sqrt(a)-2))\n",
    "    print(\"given num is divisible  \" )\n",
    "    print(\"sqrt(num) - 2 = \" , c );\n",
    "else:\n",
    "    print(\"not divise\")"
   ]
  },
  {
   "cell_type": "markdown",
   "metadata": {},
   "source": [
    "#  5 ans"
   ]
  },
  {
   "cell_type": "code",
   "execution_count": 80,
   "metadata": {},
   "outputs": [
    {
     "name": "stdout",
     "output_type": "stream",
     "text": [
      "no num is there\n"
     ]
    }
   ],
   "source": [
    "import numpy as np\n",
    "List = [2,10.5,15,20.5,25]\n",
    "num = 2\n",
    "new_List  = np.mod(List, num)\n",
    "new_List2 = [7,7,7,7,7]\n",
    "a = set(new_List)\n",
    "b = set(new_List2)\n",
    "if (b) <(a):\n",
    "    print(\"numbers are =15,20.5,25\")\n",
    "else:   \n",
    "    print(\"no num is there\")"
   ]
  },
  {
   "cell_type": "markdown",
   "metadata": {},
   "source": [
    "# 5 ans  sir i dont get it sir"
   ]
  }
 ],
 "metadata": {
  "kernelspec": {
   "display_name": "Python 3",
   "language": "python",
   "name": "python3"
  },
  "language_info": {
   "codemirror_mode": {
    "name": "ipython",
    "version": 3
   },
   "file_extension": ".py",
   "mimetype": "text/x-python",
   "name": "python",
   "nbconvert_exporter": "python",
   "pygments_lexer": "ipython3",
   "version": "3.7.6"
  }
 },
 "nbformat": 4,
 "nbformat_minor": 4
}
